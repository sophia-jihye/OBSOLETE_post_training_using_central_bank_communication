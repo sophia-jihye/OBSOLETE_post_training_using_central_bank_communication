{
 "cells": [
  {
   "cell_type": "code",
   "execution_count": 2,
   "metadata": {},
   "outputs": [],
   "source": [
    "from glob import glob \n",
    "import pandas as pd\n",
    "from tqdm import tqdm\n",
    "import os\n",
    "from nltk import sent_tokenize"
   ]
  },
  {
   "cell_type": "code",
   "execution_count": 3,
   "metadata": {},
   "outputs": [],
   "source": [
    "save_dir = 'C:\\DATA\\post_training_using_central_bank_communication\\pt_data'"
   ]
  },
  {
   "cell_type": "code",
   "execution_count": 4,
   "metadata": {},
   "outputs": [],
   "source": [
    "def extract_sentences(doc):\n",
    "    return sent_tokenize(doc)"
   ]
  },
  {
   "cell_type": "markdown",
   "metadata": {},
   "source": [
    "# FOMC Statements"
   ]
  },
  {
   "cell_type": "code",
   "execution_count": 27,
   "metadata": {},
   "outputs": [],
   "source": [
    "# https://github.com/sophia-jihye/fomc_statements/tree/main/Statements/no_stop-phrases/*/*.txt\n",
    "data_filepaths = glob('../fomc_statements/Statements/no_stop-phrases/*/*.txt')\n",
    "\n",
    "save_filepath = os.path.join(save_dir, 'post_fomc_statements.txt')"
   ]
  },
  {
   "cell_type": "code",
   "execution_count": 28,
   "metadata": {},
   "outputs": [
    {
     "name": "stderr",
     "output_type": "stream",
     "text": [
      "100%|███████████████████████████████████████████████████████████████████████████████| 215/215 [00:00<00:00, 474.20it/s]"
     ]
    },
    {
     "name": "stdout",
     "output_type": "stream",
     "text": [
      "Total number of sentences: 2928\n",
      "Created C:\\DATA\\post_training_using_central_bank_communication\\pt_data\\post_fomc_statements.txt\n"
     ]
    },
    {
     "name": "stderr",
     "output_type": "stream",
     "text": [
      "\n"
     ]
    }
   ],
   "source": [
    "cnt = 0\n",
    "with open(save_filepath, 'w', encoding='utf-8-sig') as output_file:\n",
    "    for filepath in tqdm(data_filepaths):\n",
    "        with open(filepath, 'r', encoding='utf-8-sig') as f:\n",
    "            document_date_yyyymmdd = os.path.basename(filepath).replace('.txt', '')\n",
    "            meeting_date = f.readline().replace('MEETING_DATE: ','').replace('\\n', '')\n",
    "            doc = ''.join(f.readlines())\n",
    "\n",
    "            sentences = extract_sentences(doc)\n",
    "            for sent in sentences:\n",
    "                output_file.write('{}\\n\\n'.format(sent))\n",
    "                cnt += 1\n",
    "    output_file.write('[EOD]')\n",
    "print('Total number of sentences: {}'.format(cnt))\n",
    "print('Created {}'.format(save_filepath))"
   ]
  },
  {
   "cell_type": "code",
   "execution_count": 29,
   "metadata": {},
   "outputs": [
    {
     "name": "stdout",
     "output_type": "stream",
     "text": [
      "Chairman Alan Greenspan announced today that the Federal Open Market Committee decided to increase slightly the degree of pressure on reserve positions.\n",
      "\n",
      "\n",
      "\n",
      "The action is expected to be associated with a small increase in short-term money market interest rates.\n",
      "\n",
      "\n",
      "\n",
      "The decision was taken to move toward a less accommodative stance in monetary policy in order to sustain and enhance the economic expansion.\n",
      "\n"
     ]
    }
   ],
   "source": [
    "# Show sample sentences in post_*.txt\n",
    "with open(save_filepath, 'r', encoding='utf-8-sig') as f:\n",
    "    for _ in range(5):\n",
    "        print(f.readline())"
   ]
  },
  {
   "cell_type": "markdown",
   "metadata": {},
   "source": [
    "# Fed Speeches"
   ]
  },
  {
   "cell_type": "code",
   "execution_count": 30,
   "metadata": {},
   "outputs": [],
   "source": [
    "# https://github.com/sophia-jihye/hot_topic_detection_in_central_bankers_speeches/tree/main/data/preprocessed_sentences_for_each_period_1997Q1-2019Q3.csv\n",
    "data_filepath = '../hot_topic_detection_in_central_bankers_speeches/data/preprocessed_sentences_for_each_period_1997Q1-2019Q3.csv'\n",
    "\n",
    "save_filepath = os.path.join(save_dir, 'post_fed_speeches.txt')"
   ]
  },
  {
   "cell_type": "code",
   "execution_count": 38,
   "metadata": {},
   "outputs": [
    {
     "name": "stderr",
     "output_type": "stream",
     "text": [
      "100%|██████████████████████████████████████████████████████████████████████████████████| 91/91 [00:05<00:00, 15.84it/s]"
     ]
    },
    {
     "name": "stdout",
     "output_type": "stream",
     "text": [
      "Total number of sentences: 55378\n",
      "Created C:\\DATA\\post_training_using_central_bank_communication\\pt_data\\post_fed_speeches.txt\n"
     ]
    },
    {
     "name": "stderr",
     "output_type": "stream",
     "text": [
      "\n"
     ]
    }
   ],
   "source": [
    "df = pd.read_csv(data_filepath)\n",
    "\n",
    "cnt = 0\n",
    "with open(save_filepath, 'w', encoding='utf-8-sig') as output_file:\n",
    "    for doc in tqdm(df['document'].values):\n",
    "        sentences = extract_sentences(doc)\n",
    "        for sent in sentences:\n",
    "            output_file.write('{}\\n\\n'.format(sent))\n",
    "            cnt += 1\n",
    "    output_file.write('[EOD]')\n",
    "print('Total number of sentences: {}'.format(cnt))\n",
    "print('Created {}'.format(save_filepath))"
   ]
  },
  {
   "cell_type": "code",
   "execution_count": 39,
   "metadata": {},
   "outputs": [
    {
     "name": "stdout",
     "output_type": "stream",
     "text": [
      "Mr. Greenspan addresses some key roles of a central bank Remarks by the Chairman of the Board of Governors of the US Federal Reserve System  Mr. Alan Greenspan  at the Catholic University of Leuven on  / / .\n",
      "\n",
      "\n",
      "\n",
      "Mr. Prime Minister  Minister of Finance  Minister of Budget  Rector Oosterlinck  Professor Peeters  ladies and gentlemen  it is a distinct honor  and a great personal pleasure  to be here today to receive this degree from such a distinguished and historic university.\n",
      "\n",
      "\n",
      "\n",
      "Central bankers  because of the continuity of our institutions and the nature of our responsibilities  typically are said to take a long-term view.\n",
      "\n"
     ]
    }
   ],
   "source": [
    "# Show sample sentences in post_*.txt\n",
    "with open(save_filepath, 'r', encoding='utf-8-sig') as f:\n",
    "    for _ in range(5):\n",
    "        print(f.readline())"
   ]
  },
  {
   "cell_type": "markdown",
   "metadata": {},
   "source": [
    "# FOMC Minutes"
   ]
  },
  {
   "cell_type": "code",
   "execution_count": 10,
   "metadata": {},
   "outputs": [],
   "source": [
    "# https://github.com/sophia-jihye/fomc_minutes/tree/main/Minutes/no-numbered-list/*/*.txt\n",
    "data_filepaths = glob('../fomc_minutes/Minutes/no-numbered-list/*/*.txt')\n",
    "\n",
    "save_filepath = os.path.join(save_dir, 'post_fomc_minutes.txt')"
   ]
  },
  {
   "cell_type": "code",
   "execution_count": 11,
   "metadata": {},
   "outputs": [
    {
     "name": "stderr",
     "output_type": "stream",
     "text": [
      "100%|████████████████████████████████████████████████████████████████████████████████| 254/254 [00:12<00:00, 20.14it/s]"
     ]
    },
    {
     "name": "stdout",
     "output_type": "stream",
     "text": [
      "Total number of sentences: 54524\n",
      "Created C:\\DATA\\post_training_using_central_bank_communication\\pt_data\\post_fomc_minutes.txt\n"
     ]
    },
    {
     "name": "stderr",
     "output_type": "stream",
     "text": [
      "\n"
     ]
    }
   ],
   "source": [
    "cnt = 0\n",
    "with open(save_filepath, 'w', encoding='utf-8-sig') as output_file:\n",
    "    for filepath in tqdm(data_filepaths):\n",
    "        with open(filepath, 'r', encoding='utf-8-sig') as f:\n",
    "            document_date_yyyymmdd = os.path.basename(filepath).replace('.txt', '')\n",
    "            meeting_date = f.readline().replace('MEETING_DATE: ','').replace('\\n', '')\n",
    "            doc = ''.join(f.readlines())\n",
    "\n",
    "            sentences = extract_sentences(doc)\n",
    "            for sent in sentences:\n",
    "                output_file.write('{}\\n\\n'.format(sent))\n",
    "                cnt += 1\n",
    "    output_file.write('[EOD]')\n",
    "print('Total number of sentences: {}'.format(cnt))\n",
    "print('Created {}'.format(save_filepath))"
   ]
  },
  {
   "cell_type": "code",
   "execution_count": 12,
   "metadata": {},
   "outputs": [
    {
     "name": "stdout",
     "output_type": "stream",
     "text": [
      "Minutes of the Federal Open Market Committee Meeting of February 2-3, 1993 A meeting of the Federal Open Market Committee was held in the offices of the Board of Governors of the Federal Reserve System in Washington, D.C., on Tuesday, February 2, 1993, at 2:30 p.m. and was continued on Wednesday, February 3, 1993, at 9:00 a.m.\n",
      "\n",
      "\n",
      "\n",
      "PRESENT: Mr. Greenspan, Chairman Mr. Corrigan, Vice Chairman Mr. Angell Mr. Boehne Mr. Keehn Mr. Kelley Mr. LaWare Mr. Lindsey Mr. McTeer Mr. Mullins Ms. Phillips Mr. Stern Messrs. Broaddus, Jordan, Forrestal, and Parry, Alternate Members of the Federal Open Market Committee Messrs. Hoenig, Melzer, and Syron, Presidents of the Federal Reserve Banks of Kansas City, St. Louis, and Boston, respectively Mr. Kohn, Secretary and Economist Mr. Bernard, Deputy Secretary Mr. Coyne, Assistant Secretary Mr. Gillum, Assistant Secretary Mr. Mattingly, General Counsel Mr. Patrikis,1 Deputy General Counsel Mr. Prell, Economist Mr. Truman, Economist Messrs. R. Davis, Lang, Lindsey, Promisel, Rosenblum, Scheld, Siegman, Simpson, and Slifman, Associate Economists Mr. McDonough, Manager of the System Open Market Account Ms. Greene, Deputy Manager for Foreign Operations Ms. Lovett,2 Deputy Manager for Domestic Operations Mr. Ettin, Deputy Director, Division of Research and Statistics, Board of Governors Mr. Stockton, Associate Director, Division of Research and Statistics, Board of Governors Mr. Madigan, Assistant Director, Division of Monetary Affairs, Board of Governors Mr. Brady,3 Section Chief, Division of Monetary Affairs, Board of Governors Mr. Rosine,3 Senior Economist, Division of Research and Statistics, Board of Governors Mr. Wiles,4 Secretary of the Board, Office of the Secretary, Board of Governors Mr. Winn,4 Assistant to the Board, Office of Board Members, Board of Governors Ms. Werneke,4 Special Assistant to the Board, Office of Board Members, Board of Governors Mr. Siciliano,4 Special Assistant to the General Counsel, Legal Division, Board of Governors Ms. Low, Open Market Secretariat Assistant, Division of Monetary Affairs, Board of Governors Messrs. Beebe, T. Davis, Dewald, Goodfriend, and Ms. Tschinkel, Senior Vice Presidents, Federal Reserve Banks of San Francisco, Kansas City, St. Louis, Richmond, and Atlanta, respectively Mr. McNees, Vice President, Federal Reserve Bank of Boston Mr. Gavin, Assistant Vice President, Federal Reserve Bank of Cleveland Mr. Weber, Senior Research Officer, Federal Reserve Bank of Minneapolis Ms. Meulendyke, Manager, Open Market Operations, Federal Reserve Bank of New York  Attended Wednesday session only.\n",
      "\n",
      "\n",
      "\n",
      "Attended Tuesday session only.\n",
      "\n",
      "\n",
      "\n",
      "Attended portion of meeting relating to the Committee's discussion of the economic outlook and its longer-run objectives for monetary and debt aggregates.\n",
      "\n",
      "\n",
      "\n",
      "Attended portion of the meeting relating to the release of FOMC information to the public.\n",
      "\n",
      "\n",
      "\n",
      "The Secretary reported that advices of the election of the Reserve Bank members and alternate members of the Federal Open Market Committee for the period commencing January 1, 1993, and ending December 31, 1993, had been received and that these individuals had executed their oaths of office.\n",
      "\n",
      "\n",
      "\n",
      "The elected members and alternate members were as follows: E. Gerald Corrigan, President of the Federal Reserve Bank of New York, with James H. Oltman, First Vice President of the Federal Reserve Bank of New York, as alternate; Edward G. Boehne, President of the Federal Reserve Bank of Philadelphia, with J. Alfred Broaddus, Jr., President of the Federal Reserve Bank of Richmond, as alternate; Silas Keehn, President of the Federal Reserve Bank of Chicago, with Jerry L. Jordan, President of the Federal Reserve Bank of Cleveland, as alternate; Robert D. McTeer, Jr., President of the Federal Reserve Bank of Dallas, with Robert P. Forrestal, President of the Federal Reserve Bank of Atlanta, as alternate; Gary H. Stern, President of the Federal Reserve Bank of Minneapolis, with Robert T. Parry, President of the Federal Reserve Bank of San Francisco, as alternate.\n",
      "\n",
      "\n",
      "\n",
      "By unanimous vote, the Committee elected the following officers of the Federal Open Market Committee to serve until the election of their successors at the first meeting of the Committee after December 31, 1993, with the understanding that in the event of the discontinuance of their official connection with the Board of Governors or with a Federal Reserve Bank, they would cease to have any official connection with the Federal Open Market Committee: Alan Greenspan Chairman E. Gerald Corrigan Vice Chairman Donald L. Kohn Secretary and Economist Normand R. V. Bernard Deputy Secretary Joseph R. Coyne Assistant Secretary Gary P. Gillum Assistant Secretary J. Virgil Mattingly, Jr. General Counsel Ernest T. Patrikis Deputy General Counsel Michael J. Prell Economist Edwin M. Truman Economist Richard G. Davis, Richard W. Lang, David E. Lindsey, Larry J. Promisel, Arthur J. Rolnick, Harvey Rosenblum, Karl A. Scheld, Charles J. Siegman, Thomas D. Simpson, and Lawrence Slifman Associate Economists By unanimous vote, the Federal Reserve Bank of New York was selected to execute transactions for the System Open Market Account until the adjournment of the first meeting of the Committee after December 31, 199 By unanimous vote, William J. McDonough, Margaret L. Greene, and Joan E. Lovett were selected to serve at the pleasure of the Committee in the capacities of Manager of the System Open Market Account, Deputy Manager for Foreign Operations, System Open Market Account, and Deputy Manager for Domestic Operations, System Open Market Account respectively, on the understanding that their selection was subject to their being satisfactory to the Federal Reserve Bank of New York.\n",
      "\n"
     ]
    }
   ],
   "source": [
    "# Show sample sentences in post_*.txt\n",
    "with open(save_filepath, 'r', encoding='utf-8-sig') as f:\n",
    "    for _ in range(15):\n",
    "        print(f.readline())"
   ]
  }
 ],
 "metadata": {
  "kernelspec": {
   "display_name": "Python 3 (ipykernel)",
   "language": "python",
   "name": "python3"
  },
  "language_info": {
   "codemirror_mode": {
    "name": "ipython",
    "version": 3
   },
   "file_extension": ".py",
   "mimetype": "text/x-python",
   "name": "python",
   "nbconvert_exporter": "python",
   "pygments_lexer": "ipython3",
   "version": "3.8.5"
  }
 },
 "nbformat": 4,
 "nbformat_minor": 4
}
