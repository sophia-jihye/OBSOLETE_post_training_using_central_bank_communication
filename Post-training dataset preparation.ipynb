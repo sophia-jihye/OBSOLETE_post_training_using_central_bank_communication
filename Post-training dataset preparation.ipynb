{
 "cells": [
  {
   "cell_type": "code",
   "execution_count": 9,
   "metadata": {},
   "outputs": [],
   "source": [
    "from glob import glob \n",
    "import pandas as pd\n",
    "from tqdm import tqdm\n",
    "import os\n",
    "from nltk import sent_tokenize"
   ]
  },
  {
   "cell_type": "code",
   "execution_count": 16,
   "metadata": {},
   "outputs": [],
   "source": [
    "save_dir = 'C:\\DATA\\post_training_using_central_bank_communication\\pt_data'"
   ]
  },
  {
   "cell_type": "code",
   "execution_count": null,
   "metadata": {},
   "outputs": [],
   "source": [
    "def extract_sentences(doc):\n",
    "    return sent_tokenize(doc)"
   ]
  },
  {
   "cell_type": "markdown",
   "metadata": {},
   "source": [
    "# FOMC Statements"
   ]
  },
  {
   "cell_type": "code",
   "execution_count": 27,
   "metadata": {},
   "outputs": [],
   "source": [
    "# https://github.com/sophia-jihye/fomc_statements/tree/main/Statements/no_stop-phrases/*/*.txt\n",
    "data_filepaths = glob('../fomc_statements/Statements/no_stop-phrases/*/*.txt')\n",
    "\n",
    "save_filepath = os.path.join(save_dir, 'post_fomc_statements.txt')"
   ]
  },
  {
   "cell_type": "code",
   "execution_count": 28,
   "metadata": {},
   "outputs": [
    {
     "name": "stderr",
     "output_type": "stream",
     "text": [
      "100%|███████████████████████████████████████████████████████████████████████████████| 215/215 [00:00<00:00, 474.20it/s]"
     ]
    },
    {
     "name": "stdout",
     "output_type": "stream",
     "text": [
      "Total number of sentences: 2928\n",
      "Created C:\\DATA\\post_training_using_central_bank_communication\\pt_data\\post_fomc_statements.txt\n"
     ]
    },
    {
     "name": "stderr",
     "output_type": "stream",
     "text": [
      "\n"
     ]
    }
   ],
   "source": [
    "cnt = 0\n",
    "with open(save_filepath, 'w', encoding='utf-8-sig') as output_file:\n",
    "    for filepath in tqdm(data_filepaths):\n",
    "        with open(filepath, 'r', encoding='utf-8-sig') as f:\n",
    "            document_date_yyyymmdd = os.path.basename(filepath).replace('.txt', '')\n",
    "            meeting_date = f.readline().replace('MEETING_DATE: ','').replace('\\n', '')\n",
    "            doc = ''.join(f.readlines())\n",
    "\n",
    "            sentences = extract_sentences(doc)\n",
    "            for sent in sentences:\n",
    "                output_file.write('{}\\n\\n'.format(sent))\n",
    "                cnt += 1\n",
    "    output_file.write('[EOD]')\n",
    "print('Total number of sentences: {}'.format(cnt))\n",
    "print('Created {}'.format(save_filepath))"
   ]
  },
  {
   "cell_type": "code",
   "execution_count": 29,
   "metadata": {},
   "outputs": [
    {
     "name": "stdout",
     "output_type": "stream",
     "text": [
      "Chairman Alan Greenspan announced today that the Federal Open Market Committee decided to increase slightly the degree of pressure on reserve positions.\n",
      "\n",
      "\n",
      "\n",
      "The action is expected to be associated with a small increase in short-term money market interest rates.\n",
      "\n",
      "\n",
      "\n",
      "The decision was taken to move toward a less accommodative stance in monetary policy in order to sustain and enhance the economic expansion.\n",
      "\n"
     ]
    }
   ],
   "source": [
    "# Show sample sentences in post_*.txt\n",
    "with open(save_filepath, 'r', encoding='utf-8-sig') as f:\n",
    "    for _ in range(5):\n",
    "        print(f.readline())"
   ]
  },
  {
   "cell_type": "markdown",
   "metadata": {},
   "source": [
    "# Fed Speeches"
   ]
  },
  {
   "cell_type": "code",
   "execution_count": 30,
   "metadata": {},
   "outputs": [],
   "source": [
    "# https://github.com/sophia-jihye/hot_topic_detection_in_central_bankers_speeches/tree/main/data/preprocessed_sentences_for_each_period_1997Q1-2019Q3.csv\n",
    "data_filepath = '../hot_topic_detection_in_central_bankers_speeches/data/preprocessed_sentences_for_each_period_1997Q1-2019Q3.csv'\n",
    "\n",
    "save_filepath = os.path.join(save_dir, 'post_fed_speeches.txt')"
   ]
  },
  {
   "cell_type": "code",
   "execution_count": 38,
   "metadata": {},
   "outputs": [
    {
     "name": "stderr",
     "output_type": "stream",
     "text": [
      "100%|██████████████████████████████████████████████████████████████████████████████████| 91/91 [00:05<00:00, 15.84it/s]"
     ]
    },
    {
     "name": "stdout",
     "output_type": "stream",
     "text": [
      "Total number of sentences: 55378\n",
      "Created C:\\DATA\\post_training_using_central_bank_communication\\pt_data\\post_fed_speeches.txt\n"
     ]
    },
    {
     "name": "stderr",
     "output_type": "stream",
     "text": [
      "\n"
     ]
    }
   ],
   "source": [
    "df = pd.read_csv(data_filepath)\n",
    "\n",
    "cnt = 0\n",
    "with open(save_filepath, 'w', encoding='utf-8-sig') as output_file:\n",
    "    for doc in tqdm(df['document'].values):\n",
    "        sentences = extract_sentences(doc)\n",
    "        for sent in sentences:\n",
    "            output_file.write('{}\\n\\n'.format(sent))\n",
    "            cnt += 1\n",
    "    output_file.write('[EOD]')\n",
    "print('Total number of sentences: {}'.format(cnt))\n",
    "print('Created {}'.format(save_filepath))"
   ]
  },
  {
   "cell_type": "code",
   "execution_count": 39,
   "metadata": {},
   "outputs": [
    {
     "name": "stdout",
     "output_type": "stream",
     "text": [
      "Mr. Greenspan addresses some key roles of a central bank Remarks by the Chairman of the Board of Governors of the US Federal Reserve System  Mr. Alan Greenspan  at the Catholic University of Leuven on  / / .\n",
      "\n",
      "\n",
      "\n",
      "Mr. Prime Minister  Minister of Finance  Minister of Budget  Rector Oosterlinck  Professor Peeters  ladies and gentlemen  it is a distinct honor  and a great personal pleasure  to be here today to receive this degree from such a distinguished and historic university.\n",
      "\n",
      "\n",
      "\n",
      "Central bankers  because of the continuity of our institutions and the nature of our responsibilities  typically are said to take a long-term view.\n",
      "\n"
     ]
    }
   ],
   "source": [
    "# Show sample sentences in post_*.txt\n",
    "with open(save_filepath, 'r', encoding='utf-8-sig') as f:\n",
    "    for _ in range(5):\n",
    "        print(f.readline())"
   ]
  },
  {
   "cell_type": "markdown",
   "metadata": {},
   "source": [
    "# FOMC Minutes"
   ]
  },
  {
   "cell_type": "code",
   "execution_count": 40,
   "metadata": {},
   "outputs": [],
   "source": [
    "# https://github.com/sophia-jihye/fomc_minutes/tree/main/Minutes/raw/*/*.txt\n",
    "data_filepaths = glob('../fomc_minutes/Minutes/raw/*/*.txt')\n",
    "\n",
    "save_filepath = os.path.join(save_dir, 'post_fomc_minutes.txt')"
   ]
  },
  {
   "cell_type": "code",
   "execution_count": 41,
   "metadata": {},
   "outputs": [
    {
     "name": "stderr",
     "output_type": "stream",
     "text": [
      "100%|████████████████████████████████████████████████████████████████████████████████| 254/254 [00:05<00:00, 45.60it/s]"
     ]
    },
    {
     "name": "stdout",
     "output_type": "stream",
     "text": [
      "Total number of sentences: 58038\n",
      "Created C:\\DATA\\post_training_using_central_bank_communication\\pt_data\\post_fomc_minutes.txt\n"
     ]
    },
    {
     "name": "stderr",
     "output_type": "stream",
     "text": [
      "\n"
     ]
    }
   ],
   "source": [
    "cnt = 0\n",
    "with open(save_filepath, 'w', encoding='utf-8-sig') as output_file:\n",
    "    for filepath in tqdm(data_filepaths):\n",
    "        with open(filepath, 'r', encoding='utf-8-sig') as f:\n",
    "            document_date_yyyymmdd = os.path.basename(filepath).replace('.txt', '')\n",
    "            meeting_date = f.readline().replace('MEETING_DATE: ','').replace('\\n', '')\n",
    "            doc = ''.join(f.readlines())\n",
    "\n",
    "            sentences = extract_sentences(doc)\n",
    "            for sent in sentences:\n",
    "                output_file.write('{}\\n\\n'.format(sent))\n",
    "                cnt += 1\n",
    "    output_file.write('[EOD]')\n",
    "print('Total number of sentences: {}'.format(cnt))\n",
    "print('Created {}'.format(save_filepath))"
   ]
  },
  {
   "cell_type": "code",
   "execution_count": 43,
   "metadata": {},
   "outputs": [
    {
     "name": "stdout",
     "output_type": "stream",
     "text": [
      "Minutes of the Federal Open Market Committee Meeting of February 2-3, 1993 A meeting of the Federal Open Market Committee was held in the offices of the Board of Governors of the Federal Reserve System in Washington, D.C., on Tuesday, February 2, 1993, at 2:30 p.m. and was continued on Wednesday, February 3, 1993, at 9:00 a.m.\n",
      "\n",
      "\n",
      "\n",
      "PRESENT: Mr. Greenspan, Chairman Mr. Corrigan, Vice Chairman Mr. Angell Mr. Boehne Mr. Keehn Mr. Kelley Mr. LaWare Mr. Lindsey Mr. McTeer Mr. Mullins Ms. Phillips Mr. Stern Messrs. Broaddus, Jordan, Forrestal, and Parry, Alternate Members of the Federal Open Market Committee Messrs. Hoenig, Melzer, and Syron, Presidents of the Federal Reserve Banks of Kansas City, St. Louis, and Boston, respectively Mr. Kohn, Secretary and Economist Mr. Bernard, Deputy Secretary Mr. Coyne, Assistant Secretary Mr. Gillum, Assistant Secretary Mr. Mattingly, General Counsel Mr. Patrikis,1 Deputy General Counsel Mr. Prell, Economist Mr. Truman, Economist Messrs. R. Davis, Lang, Lindsey, Promisel, Rosenblum, Scheld, Siegman, Simpson, and Slifman, Associate Economists Mr. McDonough, Manager of the System Open Market Account Ms. Greene, Deputy Manager for Foreign Operations Ms. Lovett,2 Deputy Manager for Domestic Operations Mr. Ettin, Deputy Director, Division of Research and Statistics, Board of Governors Mr. Stockton, Associate Director, Division of Research and Statistics, Board of Governors Mr. Madigan, Assistant Director, Division of Monetary Affairs, Board of Governors Mr. Brady,3 Section Chief, Division of Monetary Affairs, Board of Governors Mr. Rosine,3 Senior Economist, Division of Research and Statistics, Board of Governors Mr. Wiles,4 Secretary of the Board, Office of the Secretary, Board of Governors Mr. Winn,4 Assistant to the Board, Office of Board Members, Board of Governors Ms. Werneke,4 Special Assistant to the Board, Office of Board Members, Board of Governors Mr. Siciliano,4 Special Assistant to the General Counsel, Legal Division, Board of Governors Ms. Low, Open Market Secretariat Assistant, Division of Monetary Affairs, Board of Governors Messrs. Beebe, T. Davis, Dewald, Goodfriend, and Ms. Tschinkel, Senior Vice Presidents, Federal Reserve Banks of San Francisco, Kansas City, St. Louis, Richmond, and Atlanta, respectively Mr. McNees, Vice President, Federal Reserve Bank of Boston Mr. Gavin, Assistant Vice President, Federal Reserve Bank of Cleveland Mr. Weber, Senior Research Officer, Federal Reserve Bank of Minneapolis Ms. Meulendyke, Manager, Open Market Operations, Federal Reserve Bank of New York 1.\n",
      "\n",
      "\n",
      "\n",
      "Attended Wednesday session only.\n",
      "\n",
      "\n",
      "\n",
      "2.\n",
      "\n",
      "\n",
      "\n",
      "Attended Tuesday session only.\n",
      "\n",
      "\n",
      "\n",
      "3.\n",
      "\n",
      "\n",
      "\n",
      "Attended portion of meeting relating to the Committee's discussion of the economic outlook and its longer-run objectives for monetary and debt aggregates.\n",
      "\n",
      "\n",
      "\n",
      "4.\n",
      "\n"
     ]
    }
   ],
   "source": [
    "# Show sample sentences in post_*.txt\n",
    "with open(save_filepath, 'r', encoding='utf-8-sig') as f:\n",
    "    for _ in range(15):\n",
    "        print(f.readline())"
   ]
  }
 ],
 "metadata": {
  "kernelspec": {
   "display_name": "Python 3 (ipykernel)",
   "language": "python",
   "name": "python3"
  },
  "language_info": {
   "codemirror_mode": {
    "name": "ipython",
    "version": 3
   },
   "file_extension": ".py",
   "mimetype": "text/x-python",
   "name": "python",
   "nbconvert_exporter": "python",
   "pygments_lexer": "ipython3",
   "version": "3.8.5"
  }
 },
 "nbformat": 4,
 "nbformat_minor": 4
}
