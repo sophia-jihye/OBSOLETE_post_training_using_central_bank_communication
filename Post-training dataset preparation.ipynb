{
 "cells": [
  {
   "cell_type": "code",
   "execution_count": 9,
   "metadata": {},
   "outputs": [],
   "source": [
    "from glob import glob \n",
    "import pandas as pd\n",
    "from tqdm import tqdm\n",
    "import os\n",
    "from nltk import sent_tokenize"
   ]
  },
  {
   "cell_type": "code",
   "execution_count": 16,
   "metadata": {},
   "outputs": [],
   "source": [
    "save_dir = 'C:\\DATA\\post_training_using_central_bank_communication\\pt_data'"
   ]
  },
  {
   "cell_type": "code",
   "execution_count": null,
   "metadata": {},
   "outputs": [],
   "source": [
    "def extract_sentences(doc):\n",
    "    return sent_tokenize(doc)"
   ]
  },
  {
   "cell_type": "markdown",
   "metadata": {},
   "source": [
    "# FOMC Statements"
   ]
  },
  {
   "cell_type": "code",
   "execution_count": 27,
   "metadata": {},
   "outputs": [],
   "source": [
    "# https://github.com/sophia-jihye/fomc_statements/tree/main/Statements/no_stop-phrases/*/*.txt\n",
    "data_filepaths = glob('../fomc_statements/Statements/no_stop-phrases/*/*.txt')\n",
    "\n",
    "save_filepath = os.path.join(save_dir, 'post_fomc_statements.txt')"
   ]
  },
  {
   "cell_type": "code",
   "execution_count": 28,
   "metadata": {},
   "outputs": [
    {
     "name": "stderr",
     "output_type": "stream",
     "text": [
      "100%|███████████████████████████████████████████████████████████████████████████████| 215/215 [00:00<00:00, 474.20it/s]"
     ]
    },
    {
     "name": "stdout",
     "output_type": "stream",
     "text": [
      "Total number of sentences: 2928\n",
      "Created C:\\DATA\\post_training_using_central_bank_communication\\pt_data\\post_fomc_statements.txt\n"
     ]
    },
    {
     "name": "stderr",
     "output_type": "stream",
     "text": [
      "\n"
     ]
    }
   ],
   "source": [
    "cnt = 0\n",
    "with open(save_filepath, 'w', encoding='utf-8-sig') as output_file:\n",
    "    for filepath in tqdm(data_filepaths):\n",
    "        with open(filepath, 'r', encoding='utf-8-sig') as f:\n",
    "            document_date_yyyymmdd = os.path.basename(filepath).replace('.txt', '')\n",
    "            meeting_date = f.readline().replace('MEETING_DATE: ','').replace('\\n', '')\n",
    "            doc = ''.join(f.readlines())\n",
    "\n",
    "            sentences = extract_sentences(doc)\n",
    "            for sent in sentences:\n",
    "                output_file.write('{}\\n\\n'.format(sent))\n",
    "                cnt += 1\n",
    "    output_file.write('[EOD]')\n",
    "print('Total number of sentences: {}'.format(cnt))\n",
    "print('Created {}'.format(save_filepath))"
   ]
  },
  {
   "cell_type": "code",
   "execution_count": 29,
   "metadata": {},
   "outputs": [
    {
     "name": "stdout",
     "output_type": "stream",
     "text": [
      "Chairman Alan Greenspan announced today that the Federal Open Market Committee decided to increase slightly the degree of pressure on reserve positions.\n",
      "\n",
      "\n",
      "\n",
      "The action is expected to be associated with a small increase in short-term money market interest rates.\n",
      "\n",
      "\n",
      "\n",
      "The decision was taken to move toward a less accommodative stance in monetary policy in order to sustain and enhance the economic expansion.\n",
      "\n"
     ]
    }
   ],
   "source": [
    "# Show sample sentences in post_*.txt\n",
    "with open(save_filepath, 'r', encoding='utf-8-sig') as f:\n",
    "    for _ in range(5):\n",
    "        print(f.readline())"
   ]
  },
  {
   "cell_type": "markdown",
   "metadata": {},
   "source": [
    "# Fed Speeches"
   ]
  },
  {
   "cell_type": "code",
   "execution_count": 30,
   "metadata": {},
   "outputs": [],
   "source": [
    "# https://github.com/sophia-jihye/hot_topic_detection_in_central_bankers_speeches/tree/main/data/preprocessed_sentences_for_each_period_1997Q1-2019Q3.csv\n",
    "data_filepath = '../hot_topic_detection_in_central_bankers_speeches/data/preprocessed_sentences_for_each_period_1997Q1-2019Q3.csv'\n",
    "\n",
    "save_filepath = os.path.join(save_dir, 'post_fed_speeches.txt')"
   ]
  },
  {
   "cell_type": "code",
   "execution_count": 38,
   "metadata": {},
   "outputs": [
    {
     "name": "stderr",
     "output_type": "stream",
     "text": [
      "100%|██████████████████████████████████████████████████████████████████████████████████| 91/91 [00:05<00:00, 15.84it/s]"
     ]
    },
    {
     "name": "stdout",
     "output_type": "stream",
     "text": [
      "Total number of sentences: 55378\n",
      "Created C:\\DATA\\post_training_using_central_bank_communication\\pt_data\\post_fed_speeches.txt\n"
     ]
    },
    {
     "name": "stderr",
     "output_type": "stream",
     "text": [
      "\n"
     ]
    }
   ],
   "source": [
    "df = pd.read_csv(data_filepath)\n",
    "\n",
    "cnt = 0\n",
    "with open(save_filepath, 'w', encoding='utf-8-sig') as output_file:\n",
    "    for doc in tqdm(df['document'].values):\n",
    "        sentences = extract_sentences(doc)\n",
    "        for sent in sentences:\n",
    "            output_file.write('{}\\n\\n'.format(sent))\n",
    "            cnt += 1\n",
    "    output_file.write('[EOD]')\n",
    "print('Total number of sentences: {}'.format(cnt))\n",
    "print('Created {}'.format(save_filepath))"
   ]
  },
  {
   "cell_type": "code",
   "execution_count": 39,
   "metadata": {},
   "outputs": [
    {
     "name": "stdout",
     "output_type": "stream",
     "text": [
      "Mr. Greenspan addresses some key roles of a central bank Remarks by the Chairman of the Board of Governors of the US Federal Reserve System  Mr. Alan Greenspan  at the Catholic University of Leuven on  / / .\n",
      "\n",
      "\n",
      "\n",
      "Mr. Prime Minister  Minister of Finance  Minister of Budget  Rector Oosterlinck  Professor Peeters  ladies and gentlemen  it is a distinct honor  and a great personal pleasure  to be here today to receive this degree from such a distinguished and historic university.\n",
      "\n",
      "\n",
      "\n",
      "Central bankers  because of the continuity of our institutions and the nature of our responsibilities  typically are said to take a long-term view.\n",
      "\n"
     ]
    }
   ],
   "source": [
    "# Show sample sentences in post_*.txt\n",
    "with open(save_filepath, 'r', encoding='utf-8-sig') as f:\n",
    "    for _ in range(5):\n",
    "        print(f.readline())"
   ]
  },
  {
   "cell_type": "markdown",
   "metadata": {},
   "source": [
    "# FOMC Minutes"
   ]
  },
  {
   "cell_type": "code",
   "execution_count": null,
   "metadata": {},
   "outputs": [],
   "source": []
  }
 ],
 "metadata": {
  "kernelspec": {
   "display_name": "Python 3 (ipykernel)",
   "language": "python",
   "name": "python3"
  },
  "language_info": {
   "codemirror_mode": {
    "name": "ipython",
    "version": 3
   },
   "file_extension": ".py",
   "mimetype": "text/x-python",
   "name": "python",
   "nbconvert_exporter": "python",
   "pygments_lexer": "ipython3",
   "version": "3.8.5"
  }
 },
 "nbformat": 4,
 "nbformat_minor": 4
}
